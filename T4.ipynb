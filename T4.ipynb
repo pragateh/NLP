{
 "cells": [
  {
   "cell_type": "code",
   "execution_count": 1,
   "id": "1f8de15f",
   "metadata": {},
   "outputs": [],
   "source": [
    "from sklearn.feature_extraction.text import CountVectorizer "
   ]
  },
  {
   "cell_type": "code",
   "execution_count": 2,
   "id": "0b1981b7",
   "metadata": {},
   "outputs": [],
   "source": [
    "vect = CountVectorizer(binary = True)\n",
    "#corpus with three documents \n",
    "corpus = [\"Is this the real life\",\"Is this just fantasy\",\"caught in the limelight, no escape from reality\"]"
   ]
  },
  {
   "cell_type": "code",
   "execution_count": 3,
   "id": "021e73ec",
   "metadata": {},
   "outputs": [
    {
     "data": {
      "text/plain": [
       "list"
      ]
     },
     "execution_count": 3,
     "metadata": {},
     "output_type": "execute_result"
    }
   ],
   "source": [
    "type(corpus)"
   ]
  },
  {
   "cell_type": "code",
   "execution_count": 4,
   "id": "e07acb23",
   "metadata": {},
   "outputs": [
    {
     "data": {
      "text/plain": [
       "CountVectorizer(binary=True)"
      ]
     },
     "execution_count": 4,
     "metadata": {},
     "output_type": "execute_result"
    }
   ],
   "source": [
    "vect.fit(corpus)"
   ]
  },
  {
   "cell_type": "code",
   "execution_count": 5,
   "id": "cbe18e00",
   "metadata": {},
   "outputs": [],
   "source": [
    "vocab = vect.vocabulary_"
   ]
  },
  {
   "cell_type": "code",
   "execution_count": 6,
   "id": "10ca1743",
   "metadata": {},
   "outputs": [
    {
     "data": {
      "text/plain": [
       "{'nlp': 4,\n",
       " 'is': 3,\n",
       " 'awesome': 1,\n",
       " 'want': 11,\n",
       " 'to': 7,\n",
       " 'start': 5,\n",
       " 'an': 0,\n",
       " 'company': 2,\n",
       " 'top': 8,\n",
       " 'unicorns': 9,\n",
       " 'use': 10,\n",
       " 'techniques': 6}"
      ]
     },
     "execution_count": 6,
     "metadata": {},
     "output_type": "execute_result"
    }
   ],
   "source": [
    "vocab"
   ]
  },
  {
   "cell_type": "code",
   "execution_count": 7,
   "id": "400cb657",
   "metadata": {},
   "outputs": [
    {
     "data": {
      "text/plain": [
       "array([[0, 1, 0, 1, 1, 0, 0, 0, 0, 0, 0, 0],\n",
       "       [1, 0, 1, 0, 1, 1, 0, 1, 0, 0, 0, 1],\n",
       "       [0, 0, 0, 0, 1, 0, 1, 0, 1, 1, 1, 0]], dtype=int64)"
      ]
     },
     "execution_count": 7,
     "metadata": {},
     "output_type": "execute_result"
    }
   ],
   "source": [
    "vect.transform([\"\", \"I want to start an NLP company\", \"Top unicorns use NLP techniques\"]).toarray()"
   ]
  },
  {
   "cell_type": "code",
   "execution_count": 8,
   "id": "cde0ac46",
   "metadata": {},
   "outputs": [],
   "source": [
    "import numpy as np\n",
    "from sklearn.feature_extraction.text import TfidfVectorizer\n",
    "\n",
    "def cosine_similarity_text(texts):\n",
    "    \"\"\"\n",
    "    Calculates the cosine similarity between all pairs of texts in a list.\n",
    "    \"\"\"\n",
    "    # create TfidfVectorizer object\n",
    "    vectorizer = TfidfVectorizer()\n",
    "\n",
    "    # create sparse matrix of text vectors\n",
    "    text_vectors = vectorizer.fit_transform(texts)\n",
    "\n",
    "    # convert sparse matrix to dense matrix\n",
    "    dense_vectors = text_vectors.todense()\n",
    "\n",
    "    # calculate cosine similarity\n",
    "    cos_sim = np.dot(dense_vectors, dense_vectors.T)\n",
    "\n",
    "    return cos_sim"
   ]
  },
  {
   "cell_type": "code",
   "execution_count": 9,
   "id": "b7403c71",
   "metadata": {},
   "outputs": [
    {
     "name": "stdout",
     "output_type": "stream",
     "text": [
      "[[1.         0.09841374 0.10914377]\n",
      " [0.09841374 1.         0.07232613]\n",
      " [0.10914377 0.07232613 1.        ]]\n"
     ]
    }
   ],
   "source": [
    "cos_sim = cosine_similarity_text(corpus)\n",
    "print(cos_sim)"
   ]
  },
  {
   "cell_type": "code",
   "execution_count": 10,
   "id": "07b03014",
   "metadata": {},
   "outputs": [],
   "source": [
    "from sklearn.metrics.pairwise import cosine_similarity "
   ]
  },
  {
   "cell_type": "code",
   "execution_count": 11,
   "id": "2e09c707",
   "metadata": {},
   "outputs": [],
   "source": [
    "similarity = cosine_similarity((vect.transform([\"My name is Pragati\"]).toarray()),vect.transform([\"I a studying NLP\"]).toarray())"
   ]
  },
  {
   "cell_type": "code",
   "execution_count": 12,
   "id": "1172e0da",
   "metadata": {
    "tags": []
   },
   "outputs": [
    {
     "data": {
      "text/plain": [
       "array([[0.]])"
      ]
     },
     "execution_count": 12,
     "metadata": {},
     "output_type": "execute_result"
    }
   ],
   "source": [
    "similarity"
   ]
  }
 ],
 "metadata": {
  "kernelspec": {
   "display_name": "Python 3",
   "language": "python",
   "name": "python3"
  },
  "language_info": {
   "codemirror_mode": {
    "name": "ipython",
    "version": 3
   },
   "file_extension": ".py",
   "mimetype": "text/x-python",
   "name": "python",
   "nbconvert_exporter": "python",
   "pygments_lexer": "ipython3",
   "version": "3.8.10"
  }
 },
 "nbformat": 4,
 "nbformat_minor": 5
}
